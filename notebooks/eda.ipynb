{
 "cells": [
  {
   "cell_type": "code",
   "execution_count": 2,
   "metadata": {},
   "outputs": [],
   "source": [
    "import pandas as pd\n",
    "import sys\n",
    "import os"
   ]
  },
  {
   "cell_type": "code",
   "execution_count": 2,
   "metadata": {},
   "outputs": [],
   "source": [
    "# load dataframes\n",
    "dfGen27k = pd.read_excel(\"../data/raw/generic_27k.xlsx\")\n",
    "dfEarth1 = pd.read_excel(\"../data/raw/earth_day_tweets_sentiment_50k_(1).xlsx\")\n",
    "dfEarth2 = pd.read_excel(\"../data/raw/earth_day_tweets_sentiment_50k_(2).xlsx\")\n",
    "dfFifa = pd.read_excel(\"../data/raw/fifa_world_cup_2022_tweets_sentiment_22k.xlsx\")"
   ]
  },
  {
   "cell_type": "code",
   "execution_count": 8,
   "metadata": {},
   "outputs": [
    {
     "data": {
      "text/html": [
       "<div>\n",
       "<style scoped>\n",
       "    .dataframe tbody tr th:only-of-type {\n",
       "        vertical-align: middle;\n",
       "    }\n",
       "\n",
       "    .dataframe tbody tr th {\n",
       "        vertical-align: top;\n",
       "    }\n",
       "\n",
       "    .dataframe thead th {\n",
       "        text-align: right;\n",
       "    }\n",
       "</style>\n",
       "<table border=\"1\" class=\"dataframe\">\n",
       "  <thead>\n",
       "    <tr style=\"text-align: right;\">\n",
       "      <th></th>\n",
       "      <th>text</th>\n",
       "      <th>hash_tags</th>\n",
       "      <th>account_tags</th>\n",
       "      <th>sentiment</th>\n",
       "      <th>emotion</th>\n",
       "    </tr>\n",
       "  </thead>\n",
       "  <tbody>\n",
       "    <tr>\n",
       "      <th>0</th>\n",
       "      <td>RT @POTUS: As we celebrate the progress we’ve ...</td>\n",
       "      <td>NaN</td>\n",
       "      <td>POTUS</td>\n",
       "      <td>POSITIVE</td>\n",
       "      <td>optimism</td>\n",
       "    </tr>\n",
       "    <tr>\n",
       "      <th>1</th>\n",
       "      <td>This #EarthDay, I'm happy to be meeting with P...</td>\n",
       "      <td>EarthDay,GetTheLeadOut</td>\n",
       "      <td>PennEnvironment</td>\n",
       "      <td>POSITIVE</td>\n",
       "      <td>optimism</td>\n",
       "    </tr>\n",
       "    <tr>\n",
       "      <th>2</th>\n",
       "      <td>RT @Khan__sir_patna: All of people wishes and ...</td>\n",
       "      <td>EarthDay</td>\n",
       "      <td>Khan__sir_patna</td>\n",
       "      <td>POSITIVE</td>\n",
       "      <td>joy</td>\n",
       "    </tr>\n",
       "    <tr>\n",
       "      <th>3</th>\n",
       "      <td>RT @CapsCoalition: Biden Signs Executive Order...</td>\n",
       "      <td>EarthDay</td>\n",
       "      <td>CapsCoalition</td>\n",
       "      <td>POSITIVE</td>\n",
       "      <td>optimism</td>\n",
       "    </tr>\n",
       "    <tr>\n",
       "      <th>4</th>\n",
       "      <td>RT @tamannaahspeaks: Animals source their food...</td>\n",
       "      <td>MyconnectwithSoil</td>\n",
       "      <td>tamannaahspeaks,SadhguruJV,cpsavesoil</td>\n",
       "      <td>POSITIVE</td>\n",
       "      <td>optimism</td>\n",
       "    </tr>\n",
       "  </tbody>\n",
       "</table>\n",
       "</div>"
      ],
      "text/plain": [
       "                                                text               hash_tags  \\\n",
       "0  RT @POTUS: As we celebrate the progress we’ve ...                     NaN   \n",
       "1  This #EarthDay, I'm happy to be meeting with P...  EarthDay,GetTheLeadOut   \n",
       "2  RT @Khan__sir_patna: All of people wishes and ...                EarthDay   \n",
       "3  RT @CapsCoalition: Biden Signs Executive Order...                EarthDay   \n",
       "4  RT @tamannaahspeaks: Animals source their food...       MyconnectwithSoil   \n",
       "\n",
       "                            account_tags sentiment   emotion  \n",
       "0                                  POTUS  POSITIVE  optimism  \n",
       "1                        PennEnvironment  POSITIVE  optimism  \n",
       "2                        Khan__sir_patna  POSITIVE       joy  \n",
       "3                          CapsCoalition  POSITIVE  optimism  \n",
       "4  tamannaahspeaks,SadhguruJV,cpsavesoil  POSITIVE  optimism  "
      ]
     },
     "execution_count": 8,
     "metadata": {},
     "output_type": "execute_result"
    }
   ],
   "source": [
    "# EARCH DAY TWEETS SENTIMENT 50K 1\n",
    "dfEarth1.head()"
   ]
  },
  {
   "cell_type": "code",
   "execution_count": 9,
   "metadata": {},
   "outputs": [
    {
     "name": "stdout",
     "output_type": "stream",
     "text": [
      "Dataset shape: (49999, 5)\n",
      "Dataset info:\n",
      "<class 'pandas.core.frame.DataFrame'>\n",
      "RangeIndex: 49999 entries, 0 to 49998\n",
      "Data columns (total 5 columns):\n",
      " #   Column        Non-Null Count  Dtype \n",
      "---  ------        --------------  ----- \n",
      " 0   text          49999 non-null  object\n",
      " 1   hash_tags     33612 non-null  object\n",
      " 2   account_tags  38273 non-null  object\n",
      " 3   sentiment     49999 non-null  object\n",
      " 4   emotion       49999 non-null  object\n",
      "dtypes: object(5)\n",
      "memory usage: 1.9+ MB\n",
      "Statistical Summary:\n"
     ]
    },
    {
     "data": {
      "text/html": [
       "<div>\n",
       "<style scoped>\n",
       "    .dataframe tbody tr th:only-of-type {\n",
       "        vertical-align: middle;\n",
       "    }\n",
       "\n",
       "    .dataframe tbody tr th {\n",
       "        vertical-align: top;\n",
       "    }\n",
       "\n",
       "    .dataframe thead th {\n",
       "        text-align: right;\n",
       "    }\n",
       "</style>\n",
       "<table border=\"1\" class=\"dataframe\">\n",
       "  <thead>\n",
       "    <tr style=\"text-align: right;\">\n",
       "      <th></th>\n",
       "      <th>text</th>\n",
       "      <th>hash_tags</th>\n",
       "      <th>account_tags</th>\n",
       "      <th>sentiment</th>\n",
       "      <th>emotion</th>\n",
       "    </tr>\n",
       "  </thead>\n",
       "  <tbody>\n",
       "    <tr>\n",
       "      <th>count</th>\n",
       "      <td>49999</td>\n",
       "      <td>33612</td>\n",
       "      <td>38273</td>\n",
       "      <td>49999</td>\n",
       "      <td>49999</td>\n",
       "    </tr>\n",
       "    <tr>\n",
       "      <th>unique</th>\n",
       "      <td>27009</td>\n",
       "      <td>8566</td>\n",
       "      <td>13643</td>\n",
       "      <td>2</td>\n",
       "      <td>4</td>\n",
       "    </tr>\n",
       "    <tr>\n",
       "      <th>top</th>\n",
       "      <td>RT @Snoopy: Today is Earth Day! How will you c...</td>\n",
       "      <td>EarthDay</td>\n",
       "      <td>cpsavesoil</td>\n",
       "      <td>POSITIVE</td>\n",
       "      <td>joy</td>\n",
       "    </tr>\n",
       "    <tr>\n",
       "      <th>freq</th>\n",
       "      <td>465</td>\n",
       "      <td>9886</td>\n",
       "      <td>2037</td>\n",
       "      <td>33235</td>\n",
       "      <td>27278</td>\n",
       "    </tr>\n",
       "  </tbody>\n",
       "</table>\n",
       "</div>"
      ],
      "text/plain": [
       "                                                     text hash_tags  \\\n",
       "count                                               49999     33612   \n",
       "unique                                              27009      8566   \n",
       "top     RT @Snoopy: Today is Earth Day! How will you c...  EarthDay   \n",
       "freq                                                  465      9886   \n",
       "\n",
       "       account_tags sentiment emotion  \n",
       "count         38273     49999   49999  \n",
       "unique        13643         2       4  \n",
       "top      cpsavesoil  POSITIVE     joy  \n",
       "freq           2037     33235   27278  "
      ]
     },
     "execution_count": 9,
     "metadata": {},
     "output_type": "execute_result"
    }
   ],
   "source": [
    "print(\"Dataset shape:\", dfEarth1.shape)\n",
    "print(\"Dataset info:\")\n",
    "dfEarth1.info()\n",
    "print('Statistical Summary:')\n",
    "dfEarth1.describe()"
   ]
  },
  {
   "cell_type": "code",
   "execution_count": 10,
   "metadata": {},
   "outputs": [
    {
     "name": "stdout",
     "output_type": "stream",
     "text": [
      "['POSITIVE' 'NEGATIVE']\n",
      "['optimism' 'joy' 'anger' 'sadness']\n"
     ]
    }
   ],
   "source": [
    "print(dfEarth1[\"sentiment\"].unique())\n",
    "print(dfEarth1[\"emotion\"].unique())"
   ]
  },
  {
   "cell_type": "code",
   "execution_count": 11,
   "metadata": {},
   "outputs": [
    {
     "name": "stdout",
     "output_type": "stream",
     "text": [
      "text 0 0.0 %\n",
      "hash_tags 16387 32.7747 %\n",
      "account_tags 11726 23.4525 %\n",
      "sentiment 0 0.0 %\n",
      "emotion 0 0.0 %\n"
     ]
    }
   ],
   "source": [
    "for var in dfEarth1:\n",
    "    print(var, dfEarth1[var].isnull().sum(), round(dfEarth1[var].isnull().sum() / len(dfEarth1) * 100, 4), \"%\")"
   ]
  },
  {
   "cell_type": "code",
   "execution_count": null,
   "metadata": {},
   "outputs": [
    {
     "data": {
      "text/html": [
       "<div>\n",
       "<style scoped>\n",
       "    .dataframe tbody tr th:only-of-type {\n",
       "        vertical-align: middle;\n",
       "    }\n",
       "\n",
       "    .dataframe tbody tr th {\n",
       "        vertical-align: top;\n",
       "    }\n",
       "\n",
       "    .dataframe thead th {\n",
       "        text-align: right;\n",
       "    }\n",
       "</style>\n",
       "<table border=\"1\" class=\"dataframe\">\n",
       "  <thead>\n",
       "    <tr style=\"text-align: right;\">\n",
       "      <th></th>\n",
       "      <th>text</th>\n",
       "      <th>hash_tags</th>\n",
       "      <th>account_tags</th>\n",
       "      <th>sentiment</th>\n",
       "      <th>emotion</th>\n",
       "    </tr>\n",
       "  </thead>\n",
       "  <tbody>\n",
       "    <tr>\n",
       "      <th>0</th>\n",
       "      <td>RT @Amyk_Essentials: Happy Earth Day 🌎\\nTreat ...</td>\n",
       "      <td>NaN</td>\n",
       "      <td>Amyk_Essentials</td>\n",
       "      <td>POSITIVE</td>\n",
       "      <td>joy</td>\n",
       "    </tr>\n",
       "    <tr>\n",
       "      <th>1</th>\n",
       "      <td>RT @WUTangKids: Make Earth Day Every Day!  htt...</td>\n",
       "      <td>NaN</td>\n",
       "      <td>WUTangKids</td>\n",
       "      <td>NEGATIVE</td>\n",
       "      <td>joy</td>\n",
       "    </tr>\n",
       "    <tr>\n",
       "      <th>2</th>\n",
       "      <td>Earth Day, every day. \\n#EarthDay2022 🌍 https:...</td>\n",
       "      <td>EarthDay2022</td>\n",
       "      <td>NaN</td>\n",
       "      <td>NEGATIVE</td>\n",
       "      <td>joy</td>\n",
       "    </tr>\n",
       "    <tr>\n",
       "      <th>3</th>\n",
       "      <td>RT @wbcsd: On #EarthDay, @wbcsd proudly announ...</td>\n",
       "      <td>EarthDay</td>\n",
       "      <td>wbcsd,wbcsd,UPLLtd,Chevron</td>\n",
       "      <td>POSITIVE</td>\n",
       "      <td>optimism</td>\n",
       "    </tr>\n",
       "    <tr>\n",
       "      <th>4</th>\n",
       "      <td>RT @lihosny: I’m fighting for a greener, healt...</td>\n",
       "      <td>EarthDay,MakeOntarioGreen</td>\n",
       "      <td>lihosny</td>\n",
       "      <td>POSITIVE</td>\n",
       "      <td>optimism</td>\n",
       "    </tr>\n",
       "  </tbody>\n",
       "</table>\n",
       "</div>"
      ],
      "text/plain": [
       "                                                text  \\\n",
       "0  RT @Amyk_Essentials: Happy Earth Day 🌎\\nTreat ...   \n",
       "1  RT @WUTangKids: Make Earth Day Every Day!  htt...   \n",
       "2  Earth Day, every day. \\n#EarthDay2022 🌍 https:...   \n",
       "3  RT @wbcsd: On #EarthDay, @wbcsd proudly announ...   \n",
       "4  RT @lihosny: I’m fighting for a greener, healt...   \n",
       "\n",
       "                   hash_tags                account_tags sentiment   emotion  \n",
       "0                        NaN             Amyk_Essentials  POSITIVE       joy  \n",
       "1                        NaN                  WUTangKids  NEGATIVE       joy  \n",
       "2               EarthDay2022                         NaN  NEGATIVE       joy  \n",
       "3                   EarthDay  wbcsd,wbcsd,UPLLtd,Chevron  POSITIVE  optimism  \n",
       "4  EarthDay,MakeOntarioGreen                     lihosny  POSITIVE  optimism  "
      ]
     },
     "execution_count": 12,
     "metadata": {},
     "output_type": "execute_result"
    }
   ],
   "source": [
    "# EARCH DAY TWEETS SENTIMENT 50K 2\n",
    "dfEarth2.head()"
   ]
  },
  {
   "cell_type": "code",
   "execution_count": 13,
   "metadata": {},
   "outputs": [
    {
     "name": "stdout",
     "output_type": "stream",
     "text": [
      "Dataset shape: (50100, 5)\n",
      "Dataset info:\n",
      "<class 'pandas.core.frame.DataFrame'>\n",
      "RangeIndex: 50100 entries, 0 to 50099\n",
      "Data columns (total 5 columns):\n",
      " #   Column        Non-Null Count  Dtype \n",
      "---  ------        --------------  ----- \n",
      " 0   text          50100 non-null  object\n",
      " 1   hash_tags     29331 non-null  object\n",
      " 2   account_tags  38679 non-null  object\n",
      " 3   sentiment     50100 non-null  object\n",
      " 4   emotion       50100 non-null  object\n",
      "dtypes: object(5)\n",
      "memory usage: 1.9+ MB\n",
      "Statistical Summary:\n"
     ]
    },
    {
     "data": {
      "text/html": [
       "<div>\n",
       "<style scoped>\n",
       "    .dataframe tbody tr th:only-of-type {\n",
       "        vertical-align: middle;\n",
       "    }\n",
       "\n",
       "    .dataframe tbody tr th {\n",
       "        vertical-align: top;\n",
       "    }\n",
       "\n",
       "    .dataframe thead th {\n",
       "        text-align: right;\n",
       "    }\n",
       "</style>\n",
       "<table border=\"1\" class=\"dataframe\">\n",
       "  <thead>\n",
       "    <tr style=\"text-align: right;\">\n",
       "      <th></th>\n",
       "      <th>text</th>\n",
       "      <th>hash_tags</th>\n",
       "      <th>account_tags</th>\n",
       "      <th>sentiment</th>\n",
       "      <th>emotion</th>\n",
       "    </tr>\n",
       "  </thead>\n",
       "  <tbody>\n",
       "    <tr>\n",
       "      <th>count</th>\n",
       "      <td>50100</td>\n",
       "      <td>29331</td>\n",
       "      <td>38679</td>\n",
       "      <td>50100</td>\n",
       "      <td>50100</td>\n",
       "    </tr>\n",
       "    <tr>\n",
       "      <th>unique</th>\n",
       "      <td>26185</td>\n",
       "      <td>8233</td>\n",
       "      <td>13209</td>\n",
       "      <td>2</td>\n",
       "      <td>4</td>\n",
       "    </tr>\n",
       "    <tr>\n",
       "      <th>top</th>\n",
       "      <td>RT @BarackObama: When it comes to climate chan...</td>\n",
       "      <td>EarthDay</td>\n",
       "      <td>cpsavesoil</td>\n",
       "      <td>POSITIVE</td>\n",
       "      <td>joy</td>\n",
       "    </tr>\n",
       "    <tr>\n",
       "      <th>freq</th>\n",
       "      <td>655</td>\n",
       "      <td>9680</td>\n",
       "      <td>1224</td>\n",
       "      <td>32854</td>\n",
       "      <td>29031</td>\n",
       "    </tr>\n",
       "  </tbody>\n",
       "</table>\n",
       "</div>"
      ],
      "text/plain": [
       "                                                     text hash_tags  \\\n",
       "count                                               50100     29331   \n",
       "unique                                              26185      8233   \n",
       "top     RT @BarackObama: When it comes to climate chan...  EarthDay   \n",
       "freq                                                  655      9680   \n",
       "\n",
       "       account_tags sentiment emotion  \n",
       "count         38679     50100   50100  \n",
       "unique        13209         2       4  \n",
       "top      cpsavesoil  POSITIVE     joy  \n",
       "freq           1224     32854   29031  "
      ]
     },
     "execution_count": 13,
     "metadata": {},
     "output_type": "execute_result"
    }
   ],
   "source": [
    "print(\"Dataset shape:\", dfEarth2.shape)\n",
    "print(\"Dataset info:\")\n",
    "dfEarth2.info()\n",
    "print('Statistical Summary:')\n",
    "dfEarth2.describe()"
   ]
  },
  {
   "cell_type": "code",
   "execution_count": 14,
   "metadata": {},
   "outputs": [
    {
     "name": "stdout",
     "output_type": "stream",
     "text": [
      "['POSITIVE' 'NEGATIVE']\n",
      "['joy' 'optimism' 'anger' 'sadness']\n"
     ]
    }
   ],
   "source": [
    "print(dfEarth2[\"sentiment\"].unique())\n",
    "print(dfEarth2[\"emotion\"].unique())"
   ]
  },
  {
   "cell_type": "code",
   "execution_count": 15,
   "metadata": {},
   "outputs": [
    {
     "name": "stdout",
     "output_type": "stream",
     "text": [
      "text 0 0.0 %\n",
      "hash_tags 20769 41.4551 %\n",
      "account_tags 11421 22.7964 %\n",
      "sentiment 0 0.0 %\n",
      "emotion 0 0.0 %\n"
     ]
    }
   ],
   "source": [
    "for var in dfEarth2:\n",
    "    print(var, dfEarth2[var].isnull().sum(), round(dfEarth2[var].isnull().sum() / len(dfEarth2) * 100, 4), \"%\")"
   ]
  },
  {
   "cell_type": "code",
   "execution_count": null,
   "metadata": {},
   "outputs": [
    {
     "data": {
      "text/html": [
       "<div>\n",
       "<style scoped>\n",
       "    .dataframe tbody tr th:only-of-type {\n",
       "        vertical-align: middle;\n",
       "    }\n",
       "\n",
       "    .dataframe tbody tr th {\n",
       "        vertical-align: top;\n",
       "    }\n",
       "\n",
       "    .dataframe thead th {\n",
       "        text-align: right;\n",
       "    }\n",
       "</style>\n",
       "<table border=\"1\" class=\"dataframe\">\n",
       "  <thead>\n",
       "    <tr style=\"text-align: right;\">\n",
       "      <th></th>\n",
       "      <th>textID</th>\n",
       "      <th>text</th>\n",
       "      <th>sentiment</th>\n",
       "    </tr>\n",
       "  </thead>\n",
       "  <tbody>\n",
       "    <tr>\n",
       "      <th>0</th>\n",
       "      <td>cb774db0d1</td>\n",
       "      <td>I`d have responded, if I were going</td>\n",
       "      <td>neutral</td>\n",
       "    </tr>\n",
       "    <tr>\n",
       "      <th>1</th>\n",
       "      <td>549e992a42</td>\n",
       "      <td>Sooo SAD I will miss you here in San Diego!!!</td>\n",
       "      <td>negative</td>\n",
       "    </tr>\n",
       "    <tr>\n",
       "      <th>2</th>\n",
       "      <td>088c60f138</td>\n",
       "      <td>my boss is bullying me...</td>\n",
       "      <td>negative</td>\n",
       "    </tr>\n",
       "    <tr>\n",
       "      <th>3</th>\n",
       "      <td>9642c003ef</td>\n",
       "      <td>what interview! leave me alone</td>\n",
       "      <td>negative</td>\n",
       "    </tr>\n",
       "    <tr>\n",
       "      <th>4</th>\n",
       "      <td>358bd9e861</td>\n",
       "      <td>Sons of ****, why couldn`t they put them on t...</td>\n",
       "      <td>negative</td>\n",
       "    </tr>\n",
       "  </tbody>\n",
       "</table>\n",
       "</div>"
      ],
      "text/plain": [
       "       textID                                               text sentiment\n",
       "0  cb774db0d1                I`d have responded, if I were going   neutral\n",
       "1  549e992a42      Sooo SAD I will miss you here in San Diego!!!  negative\n",
       "2  088c60f138                          my boss is bullying me...  negative\n",
       "3  9642c003ef                     what interview! leave me alone  negative\n",
       "4  358bd9e861   Sons of ****, why couldn`t they put them on t...  negative"
      ]
     },
     "execution_count": 3,
     "metadata": {},
     "output_type": "execute_result"
    }
   ],
   "source": [
    "# GENERIC 27K\n",
    "dfGen27k.head()"
   ]
  },
  {
   "cell_type": "code",
   "execution_count": 4,
   "metadata": {},
   "outputs": [
    {
     "name": "stdout",
     "output_type": "stream",
     "text": [
      "Dataset shape: (27481, 3)\n",
      "Dataset info:\n",
      "<class 'pandas.core.frame.DataFrame'>\n",
      "RangeIndex: 27481 entries, 0 to 27480\n",
      "Data columns (total 3 columns):\n",
      " #   Column     Non-Null Count  Dtype \n",
      "---  ------     --------------  ----- \n",
      " 0   textID     27481 non-null  object\n",
      " 1   text       27480 non-null  object\n",
      " 2   sentiment  27481 non-null  object\n",
      "dtypes: object(3)\n",
      "memory usage: 644.2+ KB\n",
      "Statistical Summary:\n"
     ]
    },
    {
     "data": {
      "text/html": [
       "<div>\n",
       "<style scoped>\n",
       "    .dataframe tbody tr th:only-of-type {\n",
       "        vertical-align: middle;\n",
       "    }\n",
       "\n",
       "    .dataframe tbody tr th {\n",
       "        vertical-align: top;\n",
       "    }\n",
       "\n",
       "    .dataframe thead th {\n",
       "        text-align: right;\n",
       "    }\n",
       "</style>\n",
       "<table border=\"1\" class=\"dataframe\">\n",
       "  <thead>\n",
       "    <tr style=\"text-align: right;\">\n",
       "      <th></th>\n",
       "      <th>textID</th>\n",
       "      <th>text</th>\n",
       "      <th>sentiment</th>\n",
       "    </tr>\n",
       "  </thead>\n",
       "  <tbody>\n",
       "    <tr>\n",
       "      <th>count</th>\n",
       "      <td>27481</td>\n",
       "      <td>27480</td>\n",
       "      <td>27481</td>\n",
       "    </tr>\n",
       "    <tr>\n",
       "      <th>unique</th>\n",
       "      <td>27481</td>\n",
       "      <td>27476</td>\n",
       "      <td>3</td>\n",
       "    </tr>\n",
       "    <tr>\n",
       "      <th>top</th>\n",
       "      <td>cb774db0d1</td>\n",
       "      <td>lost luggage? Sorry to hear.  you should check...</td>\n",
       "      <td>neutral</td>\n",
       "    </tr>\n",
       "    <tr>\n",
       "      <th>freq</th>\n",
       "      <td>1</td>\n",
       "      <td>2</td>\n",
       "      <td>11118</td>\n",
       "    </tr>\n",
       "  </tbody>\n",
       "</table>\n",
       "</div>"
      ],
      "text/plain": [
       "            textID                                               text  \\\n",
       "count        27481                                              27480   \n",
       "unique       27481                                              27476   \n",
       "top     cb774db0d1  lost luggage? Sorry to hear.  you should check...   \n",
       "freq             1                                                  2   \n",
       "\n",
       "       sentiment  \n",
       "count      27481  \n",
       "unique         3  \n",
       "top      neutral  \n",
       "freq       11118  "
      ]
     },
     "execution_count": 4,
     "metadata": {},
     "output_type": "execute_result"
    }
   ],
   "source": [
    "print(\"Dataset shape:\", dfGen27k.shape)\n",
    "print(\"Dataset info:\")\n",
    "dfGen27k.info()\n",
    "print('Statistical Summary:')\n",
    "dfGen27k.describe()"
   ]
  },
  {
   "cell_type": "code",
   "execution_count": 7,
   "metadata": {},
   "outputs": [
    {
     "data": {
      "text/plain": [
       "array(['neutral', 'negative', 'positive'], dtype=object)"
      ]
     },
     "execution_count": 7,
     "metadata": {},
     "output_type": "execute_result"
    }
   ],
   "source": [
    "dfGen27k[\"sentiment\"].unique()"
   ]
  },
  {
   "cell_type": "code",
   "execution_count": 6,
   "metadata": {},
   "outputs": [
    {
     "name": "stdout",
     "output_type": "stream",
     "text": [
      "textID 0 0.0 %\n",
      "text 1 0.0036 %\n",
      "sentiment 0 0.0 %\n"
     ]
    }
   ],
   "source": [
    "for var in dfGen27k:\n",
    "    print(var, dfGen27k[var].isnull().sum(), round(dfGen27k[var].isnull().sum() / len(dfGen27k) * 100, 4), \"%\")"
   ]
  },
  {
   "cell_type": "code",
   "execution_count": 16,
   "metadata": {},
   "outputs": [
    {
     "data": {
      "text/html": [
       "<div>\n",
       "<style scoped>\n",
       "    .dataframe tbody tr th:only-of-type {\n",
       "        vertical-align: middle;\n",
       "    }\n",
       "\n",
       "    .dataframe tbody tr th {\n",
       "        vertical-align: top;\n",
       "    }\n",
       "\n",
       "    .dataframe thead th {\n",
       "        text-align: right;\n",
       "    }\n",
       "</style>\n",
       "<table border=\"1\" class=\"dataframe\">\n",
       "  <thead>\n",
       "    <tr style=\"text-align: right;\">\n",
       "      <th></th>\n",
       "      <th>Unnamed: 0</th>\n",
       "      <th>Date Created</th>\n",
       "      <th>Number of Likes</th>\n",
       "      <th>Source of Tweet</th>\n",
       "      <th>Tweet</th>\n",
       "      <th>Sentiment</th>\n",
       "    </tr>\n",
       "  </thead>\n",
       "  <tbody>\n",
       "    <tr>\n",
       "      <th>0</th>\n",
       "      <td>0</td>\n",
       "      <td>2022-11-20 23:59:21+00:00</td>\n",
       "      <td>4</td>\n",
       "      <td>Twitter Web App</td>\n",
       "      <td>What are we drinking today @TucanTribe \\n@MadB...</td>\n",
       "      <td>neutral</td>\n",
       "    </tr>\n",
       "    <tr>\n",
       "      <th>1</th>\n",
       "      <td>1</td>\n",
       "      <td>2022-11-20 23:59:01+00:00</td>\n",
       "      <td>3</td>\n",
       "      <td>Twitter for iPhone</td>\n",
       "      <td>Amazing @CanadaSoccerEN  #WorldCup2022 launch ...</td>\n",
       "      <td>positive</td>\n",
       "    </tr>\n",
       "    <tr>\n",
       "      <th>2</th>\n",
       "      <td>2</td>\n",
       "      <td>2022-11-20 23:58:41+00:00</td>\n",
       "      <td>1</td>\n",
       "      <td>Twitter for iPhone</td>\n",
       "      <td>Worth reading while watching #WorldCup2022 htt...</td>\n",
       "      <td>positive</td>\n",
       "    </tr>\n",
       "    <tr>\n",
       "      <th>3</th>\n",
       "      <td>3</td>\n",
       "      <td>2022-11-20 23:58:33+00:00</td>\n",
       "      <td>1</td>\n",
       "      <td>Twitter Web App</td>\n",
       "      <td>Golden Maknae shinning bright\\n\\nhttps://t.co/...</td>\n",
       "      <td>positive</td>\n",
       "    </tr>\n",
       "    <tr>\n",
       "      <th>4</th>\n",
       "      <td>4</td>\n",
       "      <td>2022-11-20 23:58:28+00:00</td>\n",
       "      <td>0</td>\n",
       "      <td>Twitter for Android</td>\n",
       "      <td>If the BBC cares so much about human rights, h...</td>\n",
       "      <td>negative</td>\n",
       "    </tr>\n",
       "  </tbody>\n",
       "</table>\n",
       "</div>"
      ],
      "text/plain": [
       "   Unnamed: 0               Date Created  Number of Likes  \\\n",
       "0           0  2022-11-20 23:59:21+00:00                4   \n",
       "1           1  2022-11-20 23:59:01+00:00                3   \n",
       "2           2  2022-11-20 23:58:41+00:00                1   \n",
       "3           3  2022-11-20 23:58:33+00:00                1   \n",
       "4           4  2022-11-20 23:58:28+00:00                0   \n",
       "\n",
       "       Source of Tweet                                              Tweet  \\\n",
       "0      Twitter Web App  What are we drinking today @TucanTribe \\n@MadB...   \n",
       "1   Twitter for iPhone  Amazing @CanadaSoccerEN  #WorldCup2022 launch ...   \n",
       "2   Twitter for iPhone  Worth reading while watching #WorldCup2022 htt...   \n",
       "3      Twitter Web App  Golden Maknae shinning bright\\n\\nhttps://t.co/...   \n",
       "4  Twitter for Android  If the BBC cares so much about human rights, h...   \n",
       "\n",
       "  Sentiment  \n",
       "0   neutral  \n",
       "1  positive  \n",
       "2  positive  \n",
       "3  positive  \n",
       "4  negative  "
      ]
     },
     "execution_count": 16,
     "metadata": {},
     "output_type": "execute_result"
    }
   ],
   "source": [
    "# FIFA WORLD CUP 2022 TWEETS SENTIMENT 22K\n",
    "dfFifa.head()"
   ]
  },
  {
   "cell_type": "code",
   "execution_count": 17,
   "metadata": {},
   "outputs": [
    {
     "name": "stdout",
     "output_type": "stream",
     "text": [
      "Dataset shape: (22524, 6)\n",
      "Dataset info:\n",
      "<class 'pandas.core.frame.DataFrame'>\n",
      "RangeIndex: 22524 entries, 0 to 22523\n",
      "Data columns (total 6 columns):\n",
      " #   Column           Non-Null Count  Dtype \n",
      "---  ------           --------------  ----- \n",
      " 0   Unnamed: 0       22524 non-null  int64 \n",
      " 1   Date Created     22524 non-null  object\n",
      " 2   Number of Likes  22524 non-null  int64 \n",
      " 3   Source of Tweet  22524 non-null  object\n",
      " 4   Tweet            22524 non-null  object\n",
      " 5   Sentiment        22524 non-null  object\n",
      "dtypes: int64(2), object(4)\n",
      "memory usage: 1.0+ MB\n",
      "Statistical Summary:\n"
     ]
    },
    {
     "data": {
      "text/html": [
       "<div>\n",
       "<style scoped>\n",
       "    .dataframe tbody tr th:only-of-type {\n",
       "        vertical-align: middle;\n",
       "    }\n",
       "\n",
       "    .dataframe tbody tr th {\n",
       "        vertical-align: top;\n",
       "    }\n",
       "\n",
       "    .dataframe thead th {\n",
       "        text-align: right;\n",
       "    }\n",
       "</style>\n",
       "<table border=\"1\" class=\"dataframe\">\n",
       "  <thead>\n",
       "    <tr style=\"text-align: right;\">\n",
       "      <th></th>\n",
       "      <th>Unnamed: 0</th>\n",
       "      <th>Number of Likes</th>\n",
       "    </tr>\n",
       "  </thead>\n",
       "  <tbody>\n",
       "    <tr>\n",
       "      <th>count</th>\n",
       "      <td>22524.000000</td>\n",
       "      <td>22524.000000</td>\n",
       "    </tr>\n",
       "    <tr>\n",
       "      <th>mean</th>\n",
       "      <td>11261.500000</td>\n",
       "      <td>23.822856</td>\n",
       "    </tr>\n",
       "    <tr>\n",
       "      <th>std</th>\n",
       "      <td>6502.263068</td>\n",
       "      <td>2128.018705</td>\n",
       "    </tr>\n",
       "    <tr>\n",
       "      <th>min</th>\n",
       "      <td>0.000000</td>\n",
       "      <td>0.000000</td>\n",
       "    </tr>\n",
       "    <tr>\n",
       "      <th>25%</th>\n",
       "      <td>5630.750000</td>\n",
       "      <td>0.000000</td>\n",
       "    </tr>\n",
       "    <tr>\n",
       "      <th>50%</th>\n",
       "      <td>11261.500000</td>\n",
       "      <td>0.000000</td>\n",
       "    </tr>\n",
       "    <tr>\n",
       "      <th>75%</th>\n",
       "      <td>16892.250000</td>\n",
       "      <td>2.000000</td>\n",
       "    </tr>\n",
       "    <tr>\n",
       "      <th>max</th>\n",
       "      <td>22523.000000</td>\n",
       "      <td>316867.000000</td>\n",
       "    </tr>\n",
       "  </tbody>\n",
       "</table>\n",
       "</div>"
      ],
      "text/plain": [
       "         Unnamed: 0  Number of Likes\n",
       "count  22524.000000     22524.000000\n",
       "mean   11261.500000        23.822856\n",
       "std     6502.263068      2128.018705\n",
       "min        0.000000         0.000000\n",
       "25%     5630.750000         0.000000\n",
       "50%    11261.500000         0.000000\n",
       "75%    16892.250000         2.000000\n",
       "max    22523.000000    316867.000000"
      ]
     },
     "execution_count": 17,
     "metadata": {},
     "output_type": "execute_result"
    }
   ],
   "source": [
    "print(\"Dataset shape:\", dfFifa.shape)\n",
    "print(\"Dataset info:\")\n",
    "dfFifa.info()\n",
    "print('Statistical Summary:')\n",
    "dfFifa.describe()"
   ]
  },
  {
   "cell_type": "code",
   "execution_count": 21,
   "metadata": {},
   "outputs": [
    {
     "name": "stdout",
     "output_type": "stream",
     "text": [
      "['neutral' 'positive' 'negative']\n",
      "['Twitter Web App' 'Twitter for iPhone' 'Twitter for Android' 'IFTTT'\n",
      " 'Twitter for Mac' 'TweetDeck' 'Salesforce - Social Studio'\n",
      " 'Hootsuite Inc.' 'Triberr' 'Twittimer' 'Twitter for iPad' 'Jetpack.com'\n",
      " 'SocialFlow' 'Twitter Media Studio' 'Instagram' 'LaterMedia'\n",
      " 'Tweetbot for iΟS' 'Slogover' 'SocialBee.io v2' 'Twitter for Advertisers'\n",
      " 'Commenty 2' 'Emplifi' 'SocialChamp IO ' 'Qualtrics Social Connect'\n",
      " 'Buffer' 'dlvr.it' 'SoCrowd' 'Sprout Social' 'DenetPro'\n",
      " 'TweetDeck Web App' 'Echobox' 'Planable' 'Metricool' 'Zoho Social'\n",
      " 'Typefully' 'Zlappo.com' 'TAG24-NEWS' 'ClubZap' 'Sprinklr Publishing'\n",
      " 'Canva' 'Sendible' 'LinkedIn' 'Cloud Campaign' 'OneClout'\n",
      " 'Football Score Twwets' 'Оwly' 'Albatross for Twitter' 'FenixApp'\n",
      " 'Loomly' 'Sprinklr' 'Twitterrific for iOS' 'Oktopost' 'Echofon'\n",
      " 'Semrush Social Media Tool' 'Aviary for Twitter' 'Zapier.com'\n",
      " 'Flamingo for Android' 'Nintendo Switch Share' 'Talon Android'\n",
      " 'Tweetlogix' 'Plume\\xa0for\\xa0Android' 'Mastodon-Twitter Crossposter'\n",
      " 'Fenix 2' 'Twitter Ads' 'TweetCaster for Android' 'Tweetbot for Mac'\n",
      " 'dab.argh' 'HubSpot' 'Octipulse Backup' 'Vista Social' 'Tweepsmap'\n",
      " 'Hookle App' 'Agorapulse app' 'Chorus publishing platform'\n",
      " 'Microsoft Power Platform' 'Squarespace' 'Orlo' 'Crowdfire App'\n",
      " 'RSS Ground' 'Wildmoka' 'The Tweeted Times' 'Meltwater Social'\n",
      " 'Brandwatch' 'FANZO Pub Platform' 'HeyOrca' 'ProxyCentral CNNnews18'\n",
      " 'Constant Contact - Social Posts' 'SMMplanner' 'Pallyy' 'CONTENIVE'\n",
      " 'socialbu.com' 'eClincher' 'Dabr' 'SocialPilot.co' 'Adobe Express'\n",
      " 'threadcreator.com' 'notice.com.ng' 'Khoros Publishing App' 'Sked Social'\n",
      " 'Twheater_live' 'TWTD Admin' 'Blog2Social APP' 'Cyber-Desk' 'RepurposeIO'\n",
      " 'Copa Do mundo 2022' 'FS_Poster_App' 'Gain Platform'\n",
      " 'SnapStream TV Search' 'Publer.io']\n"
     ]
    }
   ],
   "source": [
    "print(dfFifa[\"Sentiment\"].unique())\n",
    "print(dfFifa[\"Source of Tweet\"].unique())"
   ]
  },
  {
   "cell_type": "code",
   "execution_count": 20,
   "metadata": {},
   "outputs": [
    {
     "name": "stdout",
     "output_type": "stream",
     "text": [
      "Unnamed: 0 0 0.0 %\n",
      "Date Created 0 0.0 %\n",
      "Number of Likes 0 0.0 %\n",
      "Source of Tweet 0 0.0 %\n",
      "Tweet 0 0.0 %\n",
      "Sentiment 0 0.0 %\n"
     ]
    }
   ],
   "source": [
    "for var in dfFifa:\n",
    "    print(var, dfFifa[var].isnull().sum(), round(dfFifa[var].isnull().sum() / len(dfFifa) * 100, 4), \"%\")"
   ]
  }
 ],
 "metadata": {
  "kernelspec": {
   "display_name": "base",
   "language": "python",
   "name": "python3"
  },
  "language_info": {
   "codemirror_mode": {
    "name": "ipython",
    "version": 3
   },
   "file_extension": ".py",
   "mimetype": "text/x-python",
   "name": "python",
   "nbconvert_exporter": "python",
   "pygments_lexer": "ipython3",
   "version": "3.9.13"
  }
 },
 "nbformat": 4,
 "nbformat_minor": 2
}
